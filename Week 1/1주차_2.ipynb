{
  "nbformat": 4,
  "nbformat_minor": 0,
  "metadata": {
    "colab": {
      "name": "1주차-2.ipynb",
      "provenance": [],
      "collapsed_sections": []
    },
    "kernelspec": {
      "name": "python3",
      "display_name": "Python 3"
    },
    "language_info": {
      "name": "python"
    }
  },
  "cells": [
    {
      "cell_type": "code",
      "source": [
        "# 복습!\n",
        "# 파이썬의 장점은?\n",
        "# 변수 name = \"홍길동\" 에서, \"길동\" 부분만 출력해보기\n",
        "# 리스트 [1, 2, 3, 4, 5]에서 3만 제거하려면 어떻게?\n",
        "# 리스트를 정렬하려면?\n",
        "# 리스트를 뒤집으려면?\n",
        "# 1~10까지 출력하되, 홀수만 출력하기"
      ],
      "metadata": {
        "id": "75E5w0kQE61e"
      },
      "execution_count": null,
      "outputs": []
    },
    {
      "cell_type": "code",
      "source": [
        "# 1. 함수\n",
        "\n",
        "# 1.1. 함수 - 파라미터 없음, 반환 값 없음\n",
        "def 인사():\n",
        "    print(\"안녕하세요!\")\n",
        "\n",
        "인사()"
      ],
      "metadata": {
        "colab": {
          "base_uri": "https://localhost:8080/"
        },
        "id": "veem7LxfHMkf",
        "outputId": "fb8d34fb-918f-49da-9c17-9d3da3a925e1"
      },
      "execution_count": null,
      "outputs": [
        {
          "output_type": "stream",
          "name": "stdout",
          "text": [
            "안녕하세요!\n"
          ]
        }
      ]
    },
    {
      "cell_type": "code",
      "source": [
        "# 1.2. 함수 - 파라미터 있음\n",
        "def 인사(이름):\n",
        "    print(\"{}님 안녕하세요!\".format(이름))\n",
        "\n",
        "인사(\"홍길동\")"
      ],
      "metadata": {
        "colab": {
          "base_uri": "https://localhost:8080/"
        },
        "id": "zk2MoQ4IZEaZ",
        "outputId": "ffddc649-1d0c-4ecc-fb35-b25c2d3041c0"
      },
      "execution_count": null,
      "outputs": [
        {
          "output_type": "stream",
          "name": "stdout",
          "text": [
            "홍길동님 안녕하세요!\n"
          ]
        }
      ]
    },
    {
      "cell_type": "code",
      "source": [
        "# 1.3. 함수 - 파라미터 있음, 반환 값 있음\n",
        "def 더하기(a, b):\n",
        "    return a + b\n",
        "\n",
        "c = 더하기(1, 2)\n",
        "print(c)"
      ],
      "metadata": {
        "colab": {
          "base_uri": "https://localhost:8080/"
        },
        "id": "jQ9kF5kHbCEP",
        "outputId": "f675ac1b-3a91-42c5-d2d6-8e3f6c328632"
      },
      "execution_count": null,
      "outputs": [
        {
          "output_type": "stream",
          "name": "stdout",
          "text": [
            "3\n"
          ]
        }
      ]
    },
    {
      "cell_type": "code",
      "source": [
        "# 2. 클래스\n",
        "\n",
        "class 학생증():\n",
        "    def __init__(self, 이름, 전공, money):\n",
        "        self.name = 이름\n",
        "        self.major = 전공\n",
        "        self.money = money\n",
        "\n",
        "    def 학생_소개(self):\n",
        "        print(\"이름은 {}입니다.\".format(self.name))\n",
        "        print(\"전공은 {}입니다.\".format(self.major))\n",
        "        print(\"남은 금액은 {}원입니다.\".format(self.money))\n",
        "\n",
        "    def 결제하기(self, cost):\n",
        "        self.money = self.money - cost\n",
        "        print(\"결제되었습니다.\")\n",
        "        print(\"남은 금액은 {}원입니다.\".format(self.money))\n",
        "\n",
        "\n",
        "홍길동_학생증 = 학생증(\"홍길동\", \"전기\", 10000)\n",
        "\n",
        "홍길동_학생증.학생_소개()\n",
        "홍길동_학생증.결제하기(1000)"
      ],
      "metadata": {
        "id": "6mjrxa3L0CRT",
        "colab": {
          "base_uri": "https://localhost:8080/"
        },
        "outputId": "99b505e8-c8c7-4ca3-8c20-8bee6b73d903"
      },
      "execution_count": null,
      "outputs": [
        {
          "output_type": "stream",
          "name": "stdout",
          "text": [
            "이름은 홍길동입니다.\n",
            "전공은 전기입니다.\n",
            "남은 금액은 10000원입니다.\n",
            "결제되었습니다.\n",
            "남은 금액은 9000원입니다.\n"
          ]
        }
      ]
    },
    {
      "cell_type": "code",
      "source": [
        "# 3. 객체 지향 프로그래밍\n",
        "\n",
        "# 클래스, 함수를 통해 코드를 효율적으로 짜겠다 -> 객체 지향 프로그래밍입니다."
      ],
      "metadata": {
        "id": "BD5j9Zxi4RzX"
      },
      "execution_count": null,
      "outputs": []
    },
    {
      "cell_type": "code",
      "source": [
        "# 4. 파일 읽고 쓰기\n",
        "\n",
        "\n",
        "\"\"\"\n",
        "학생정보.txt\n",
        "\n",
        "홍길동\n",
        "전기\n",
        "4학년\n",
        "\n",
        "\"\"\"\n",
        "\n",
        "# 4.1. 읽기\n",
        "with open(\"학생정보.txt\", \"r\") as f:\n",
        "    내용리스트 = f.readlines()\n",
        "\n",
        "print(내용리스트)\n",
        "\n",
        "for i in range(len(내용리스트)):\n",
        "    내용리스트[i] = 내용리스트[i].strip()\n",
        "\n",
        "print(내용리스트)"
      ],
      "metadata": {
        "colab": {
          "base_uri": "https://localhost:8080/"
        },
        "id": "6bKl9jCf4Xlv",
        "outputId": "63bb9afb-8ecc-4cb9-ebb4-b9dbc3eca7fd"
      },
      "execution_count": null,
      "outputs": [
        {
          "output_type": "stream",
          "name": "stdout",
          "text": [
            "['홍길동\\n', '전기\\n', '4학년']\n",
            "['홍길동', '전기', '4학년']\n"
          ]
        }
      ]
    },
    {
      "cell_type": "code",
      "source": [
        "# 4.2. 쓰기\n",
        "\n",
        "내용 = \"\"\"1주차-2 내용입니다.\n",
        "함수, 클래스에 대해 다룹니다.\"\"\"\n",
        "\n",
        "with open(\"내용요약.txt\", \"w\") as f:\n",
        "    f.write(내용)\n",
        "\n",
        "추가할_내용 = \"\\n파일 쓰기, 모듈 역시 다룹니다.\"\n",
        "with open(\"내용요약.txt\", \"a\") as f:\n",
        "    f.write(추가할_내용)"
      ],
      "metadata": {
        "id": "OYiM_mdL74g_"
      },
      "execution_count": null,
      "outputs": []
    },
    {
      "cell_type": "code",
      "source": [
        "# 5. 모듈\n",
        "\n",
        "\"\"\"\n",
        "# keri.py\n",
        "\n",
        "def 안녕():\n",
        "    print(\"안녕~~\")\n",
        "\n",
        "\"\"\""
      ],
      "metadata": {
        "id": "1K1u-oa-8qqT",
        "colab": {
          "base_uri": "https://localhost:8080/",
          "height": 35
        },
        "outputId": "b579b2ba-8a58-450b-c9e0-933d72042aa6"
      },
      "execution_count": null,
      "outputs": [
        {
          "output_type": "execute_result",
          "data": {
            "text/plain": [
              "'\\n# keri.py\\n\\ndef 안녕():\\n    print(\"안녕~~\")\\n\\n'"
            ],
            "application/vnd.google.colaboratory.intrinsic+json": {
              "type": "string"
            }
          },
          "metadata": {},
          "execution_count": 26
        }
      ]
    },
    {
      "cell_type": "code",
      "source": [
        "import keri\n",
        "\n",
        "# 5.1. import를 통해 외부 파이썬 파일의 함수를 사용할 수 있습니다.\n",
        "\n",
        "keri.안녕()"
      ],
      "metadata": {
        "id": "nhVNULxC9QBd",
        "colab": {
          "base_uri": "https://localhost:8080/"
        },
        "outputId": "aab543b0-035f-49bd-cf48-7a75a6720407"
      },
      "execution_count": null,
      "outputs": [
        {
          "output_type": "stream",
          "name": "stdout",
          "text": [
            "안녕~~\n"
          ]
        }
      ]
    },
    {
      "cell_type": "code",
      "source": [
        "from keri import *\n",
        "\n",
        "# 5.2. from과 import를 통해 패키지의 일부 기능만 가져올 수 있습니다.\n",
        "\n",
        "안녕()"
      ],
      "metadata": {
        "colab": {
          "base_uri": "https://localhost:8080/"
        },
        "id": "kE9iIGgz9Rgi",
        "outputId": "08d7e9cd-2e8b-4364-c575-49e29e00bee7"
      },
      "execution_count": null,
      "outputs": [
        {
          "output_type": "stream",
          "name": "stdout",
          "text": [
            "안녕~~\n"
          ]
        }
      ]
    },
    {
      "cell_type": "code",
      "source": [
        "from keri import *\n",
        "\n",
        "# 6. 네임스페이스 설명\n",
        "\n",
        "def 안녕():\n",
        "    print(\"반가워~~\")\n",
        "\n",
        "안녕()"
      ],
      "metadata": {
        "colab": {
          "base_uri": "https://localhost:8080/"
        },
        "id": "GiHkmrwdah-G",
        "outputId": "0fa054c4-003a-40e7-aaed-11c106b60d5f"
      },
      "execution_count": null,
      "outputs": [
        {
          "output_type": "stream",
          "name": "stdout",
          "text": [
            "반가워~~\n"
          ]
        }
      ]
    }
  ]
}