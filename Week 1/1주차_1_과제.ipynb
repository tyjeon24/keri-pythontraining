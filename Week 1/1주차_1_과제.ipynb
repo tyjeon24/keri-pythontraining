{
  "nbformat": 4,
  "nbformat_minor": 0,
  "metadata": {
    "colab": {
      "name": "1주차-1 과제.ipynb",
      "provenance": []
    },
    "kernelspec": {
      "name": "python3",
      "display_name": "Python 3"
    },
    "language_info": {
      "name": "python"
    }
  },
  "cells": [
    {
      "cell_type": "markdown",
      "source": [
        "# 1. 자료형 - 문자\n",
        "\n",
        "1. 주민번호의 뒷자리 부분만 출력해보세요.\n",
        "2. 힌트 : 이름[0:] 처럼 문자열을 원하는 부분만 고를 수 있습니다.\n",
        "\n",
        "```\n",
        "# 출력  \n",
        "1234567\n",
        "```\n",
        "\n"
      ],
      "metadata": {
        "id": "wtGcGPnfJaBa"
      }
    },
    {
      "cell_type": "code",
      "source": [
        "주민등록번호 = \"123456-1234567\"\n",
        "\n",
        "### 이 사이에 코드 입력\n",
        "\n",
        "뒷부분 = 주민등록번호[1:] # 이 코드를 수정\n",
        "\n",
        "###\n",
        "\n",
        "print(뒷부분)"
      ],
      "metadata": {
        "colab": {
          "base_uri": "https://localhost:8080/"
        },
        "id": "vJxBgX6IJeL4",
        "outputId": "b003807b-c02d-44ae-f5ee-31316164fbb3"
      },
      "execution_count": null,
      "outputs": [
        {
          "output_type": "stream",
          "name": "stdout",
          "text": [
            "23456-1234567\n"
          ]
        }
      ]
    },
    {
      "cell_type": "markdown",
      "source": [
        "# 2. 리스트\n",
        "1. 숫자를 정렬해서 출력해보세요.\n",
        "2. 힌트 : .sort(), .reverse()\n",
        "\n",
        "```\n",
        "# 출력\n",
        "[9, 8, 7, 6, 5, 4, 3, 2, 1]\n",
        "```\n",
        "\n",
        "\n"
      ],
      "metadata": {
        "id": "DCHOfZhkJw16"
      }
    },
    {
      "cell_type": "code",
      "source": [
        "\n",
        "numbers = [1, 3, 5, 7, 9, 2, 4, 6, 8]\n",
        "\n",
        "### 이 사이에 코드 입력\n",
        "\n",
        "\n",
        "\n",
        "\n",
        "###\n",
        "\n",
        "print(numbers)"
      ],
      "metadata": {
        "colab": {
          "base_uri": "https://localhost:8080/"
        },
        "id": "prUIeqF4JqEj",
        "outputId": "e786c41b-8782-4057-bf83-1443a9e79865"
      },
      "execution_count": null,
      "outputs": [
        {
          "output_type": "stream",
          "name": "stdout",
          "text": [
            "[1, 3, 5, 7, 9, 2, 4, 6, 8]\n"
          ]
        }
      ]
    },
    {
      "cell_type": "markdown",
      "source": [
        "# 3. 제어문\n",
        "1. 1~10까지의 값을 홀수를 제외하고 출력해보세요.\n",
        "2. 힌트 : 반복문으로 1~10까지 반복하게 하고, if와 continue를 조합해보세요.\n",
        "\n",
        "```\n",
        "# 출력\n",
        "2\n",
        "4\n",
        "6\n",
        "8\n",
        "```\n",
        "\n",
        "\n"
      ],
      "metadata": {
        "id": "LEe0KIS5KA8G"
      }
    },
    {
      "cell_type": "code",
      "source": [
        "### 이 사이에 코드 입력\n",
        "\n",
        "\n",
        "###"
      ],
      "metadata": {
        "id": "S8nW7EzhKDfS"
      },
      "execution_count": null,
      "outputs": []
    },
    {
      "cell_type": "markdown",
      "source": [
        "# 4. 반복문\n",
        "1. for문을 사용해서 리스트의 모든 숫자를 sum에 더해보세요.\n",
        "2. sum을 10으로 나누면 average가 됩니다.\n",
        "\n",
        "```\n",
        "# 출력\n",
        "835\n",
        "83.5\n",
        "```\n",
        "\n"
      ],
      "metadata": {
        "id": "GomYH6FGKJgZ"
      }
    },
    {
      "cell_type": "code",
      "source": [
        "scores = [80, 70, 60, 80, 75, 100, 100, 80, 90, 100]\n",
        "\n",
        "sum = 0\n",
        "average = 0\n",
        "\n",
        "### 이 사이에 코드 입력\n",
        "\n",
        "\n",
        "\n",
        "\n",
        "###\n",
        "\n",
        "print(sum)\n",
        "print(average)"
      ],
      "metadata": {
        "colab": {
          "base_uri": "https://localhost:8080/"
        },
        "id": "eyaGbCJsKLfX",
        "outputId": "08430a38-02f8-421e-983e-24669406960b"
      },
      "execution_count": null,
      "outputs": [
        {
          "output_type": "stream",
          "name": "stdout",
          "text": [
            "0\n",
            "0\n"
          ]
        }
      ]
    },
    {
      "cell_type": "markdown",
      "source": [
        "# 5. 반복문\n",
        "1. 구구단을 출력해보세요.  \n",
        "형식 : 2 * 2 = 4의 형태\n",
        "2. 힌트 : print(\"{} * {} = {}, i, j, i * j)의 형태로 출력할 수 있습니다.\n",
        "\n",
        "```\n",
        "# 출력\n",
        "2 * 2 = 4\n",
        "2 * 3 = 6\n",
        "... 중간 생략 ...\n",
        "9 * 8 = 72\n",
        "9 * 9 = 81\n",
        "```\n",
        "\n",
        "\n"
      ],
      "metadata": {
        "id": "4AFh7IP2L-n0"
      }
    },
    {
      "cell_type": "code",
      "source": [
        "### 이 사이에 코드 입력\n",
        "\n",
        "\n",
        "\n",
        "###"
      ],
      "metadata": {
        "id": "t-qE27N7MGnH"
      },
      "execution_count": null,
      "outputs": []
    }
  ]
}