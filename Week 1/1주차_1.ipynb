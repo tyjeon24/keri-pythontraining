{
  "nbformat": 4,
  "nbformat_minor": 0,
  "metadata": {
    "colab": {
      "name": "1주차-1.ipynb",
      "provenance": [],
      "collapsed_sections": []
    },
    "kernelspec": {
      "name": "python3",
      "display_name": "Python 3"
    },
    "language_info": {
      "name": "python"
    }
  },
  "cells": [
    {
      "cell_type": "code",
      "source": [
        "# 1. 주석\n",
        "# 한줄짜리 주석은 샵# 기호로 표현합니다.\n",
        "\n",
        "\"\"\"\n",
        "여러줄짜리\n",
        "주석은\n",
        "작은따옴표 3개로 표현합니다.\n",
        "\"\"\"\n",
        "\n",
        "# print(\"예시\")\n",
        "print(\"주석 처리한 코드는 실행되지 않습니다.\")"
      ],
      "metadata": {
        "colab": {
          "base_uri": "https://localhost:8080/"
        },
        "id": "veem7LxfHMkf",
        "outputId": "e85713a7-381f-4585-f3fb-b52d5c10f8f5"
      },
      "execution_count": null,
      "outputs": [
        {
          "output_type": "stream",
          "name": "stdout",
          "text": [
            "주석 처리한 코드는 실행되지 않습니다.\n"
          ]
        }
      ]
    },
    {
      "cell_type": "code",
      "execution_count": null,
      "metadata": {
        "colab": {
          "base_uri": "https://localhost:8080/"
        },
        "id": "Wfnb8tk-NXby",
        "outputId": "6456c9bd-1b95-46fe-bfe5-3feddc2ea2c1"
      },
      "outputs": [
        {
          "output_type": "stream",
          "name": "stdout",
          "text": [
            "5 3\n",
            "5 + 3 = 8\n",
            "5 - 3 = 2\n",
            "5 * 3 = 15\n",
            "5 / 3 = 1.6666666666666667\n",
            "5 ** 3 = 125\n",
            "5 // 3 = 1\n",
            "5 % 3 = 2\n"
          ]
        }
      ],
      "source": [
        "# 2. 자료형 - 숫자\n",
        "\n",
        "# 2.1. 변수에 숫자를 입력하는 것으로 선언할 수 있습니다.\n",
        "a = 5\n",
        "b = 3\n",
        "print(a, b)\n",
        "\n",
        "# 2.2. 기본적인 사칙연산이 가능합니다.\n",
        "print(a,\"+\", b, \"=\", a + b) # 5 + 3 = 8\n",
        "print(a,\"-\", b, \"=\", a - b) # 5 + 3 = 2\n",
        "print(a,\"*\", b, \"=\", a * b) # 5 + 3 = 15\n",
        "print(a,\"/\", b, \"=\", a / b) # 5 + 3 = 1.6666667\n",
        "\n",
        "# 2.3. 제곱, 몫, 나머지 연산도 가능합니다.\n",
        "print(a,\"**\", b, \"=\", a ** b) # 5 ** 3 = 125\n",
        "print(a,\"//\", b, \"=\", a // b) # 5 + 3 = 1\n",
        "print(a,\"%\", b, \"=\", a % b) # 5 + 3 = 2"
      ]
    },
    {
      "cell_type": "code",
      "source": [
        "# 3. 자료형 - 문자\n",
        "\n",
        "이름 = \"홍길동\"\n",
        "인사말 = \"님 안녕하세요\"\n",
        "\n",
        "# 3.1. 덧셈과 곱셈이 가능합니다.\n",
        "print(이름)\n",
        "print(이름 + 인사말)\n",
        "print(이름 * 2 + 인사말)\n",
        "\n",
        "# 3.2. len 함수로 문자의 길이를 알아낼 수 있습니다.\n",
        "print(len(이름))\n",
        "\n",
        "# 3.3. 문자의 일부만 불러올 수 있습니다.\n",
        "print(이름[0]) # 홍\n",
        "print(이름[1]) # 길\n",
        "print(이름[2]) # 동\n",
        "\n",
        "print(이름[0:2]) # 홍길 : 0번째, 1번째에만 가져옵니다.\n",
        "print(이름[0:]) # 홍길동"
      ],
      "metadata": {
        "colab": {
          "base_uri": "https://localhost:8080/"
        },
        "id": "SosuOhOYNbsk",
        "outputId": "d0a4503a-c720-4a53-b1b4-8d8c8478a31e"
      },
      "execution_count": null,
      "outputs": [
        {
          "output_type": "stream",
          "name": "stdout",
          "text": [
            "홍길동\n",
            "홍길동님 안녕하세요\n",
            "홍길동홍길동님 안녕하세요\n",
            "홍길동홍길동\n",
            "3\n",
            "홍\n",
            "길\n",
            "동\n",
            "홍길\n",
            "홍길동\n"
          ]
        }
      ]
    },
    {
      "cell_type": "code",
      "source": [
        "# 4. 자료형 - 문자열 다루기\n",
        "\n",
        "# 4.1. 중괄호{}를 사용해 문자열 포매팅이 가능합니다.\n",
        "이름 = \"홍길동\"\n",
        "print(\"{}님 안녕하세요\".format(이름))\n",
        "\n",
        "# 4.2. replace 함수로 특정 문자를 바꿀 수 있습니다.\n",
        "이름 = 이름.replace(\"홍\",\"고\")\n",
        "print(\"{}님 안녕하세요\".format(이름))\n",
        "\n",
        "# 4.3. strip 함수로 양쪽 공백을 없앨 수 있습니다.\n",
        "공백이_많은_문자 = \"     앗!     \"\n",
        "print(공백이_많은_문자)\n",
        "공백이_많은_문자 = 공백이_많은_문자.strip()\n",
        "print(공백이_많은_문자)"
      ],
      "metadata": {
        "colab": {
          "base_uri": "https://localhost:8080/"
        },
        "id": "vDuwyMn1R9jt",
        "outputId": "50a1d8a3-025e-42ca-c405-0046ab5c4519"
      },
      "execution_count": null,
      "outputs": [
        {
          "output_type": "stream",
          "name": "stdout",
          "text": [
            "홍길동님 안녕하세요\n",
            "고길동님 안녕하세요\n",
            "     앗!     \n",
            "앗!\n"
          ]
        }
      ]
    },
    {
      "cell_type": "code",
      "source": [
        "# 5. 리스트 자료형\n",
        "\n",
        "# 5.1. 대괄호를 통해 리스트 자료형을 선언할 수 있습니다.\n",
        "a = [\"C\",\"언어의\",\"배열\",\"같은겁니다\"]\n",
        "print(a) # ['C', '언어의', '배열', '같은겁니다']\n",
        "print(a[2]) # \"배열\"\n",
        "print(a[3]) # \"같은겁니다\"\n",
        "\n",
        "# 5.2. 숫자, 문자 등 여러 자료형을 한 리스트에 넣을 수 있습니다.\n",
        "b = [123, \"같은\", \"숫자 데이터도\", \"문자 데이터와 함께 넣을 수 있습니다\"]\n",
        "print(b)\n",
        "\n",
        "# 5.3. 리스트를 합치려면 덧셈을 하면 됩니다.\n",
        "a = [1, 2]\n",
        "b = [3, 4]\n",
        "c = a+b\n",
        "print(c)\n",
        "\n",
        "# 5.4. append를 통해 데이터를 추가할 수 있습니다.\n",
        "c.append(5)\n",
        "print(c)\n",
        "\n",
        "# 5.5. remove를 통해 데이터를 제거할 수 있습니다.\n",
        "c.remove(3)\n",
        "print(c)\n",
        "\n",
        "# 5.6. count를 통해 데이터 숫자를 셀 수 있습니다.\n",
        "number = c.count(2)\n",
        "print(number)\n",
        "\n",
        "# 5.6. sort 함수로 리스트를 정렬할 수 있습니다.\n",
        "숫자리스트 = [1,5,3,1,2,10]\n",
        "숫자리스트.sort()\n",
        "print(숫자리스트)\n",
        "\n",
        "또다른_숫자리스트 = [2,10,9,7]\n",
        "또다른_숫자리스트.reverse()\n",
        "print(또다른_숫자리스트)"
      ],
      "metadata": {
        "colab": {
          "base_uri": "https://localhost:8080/"
        },
        "id": "Xa2Y6OTDTWk4",
        "outputId": "4ba4aae7-d248-406c-f744-19e05e670cce"
      },
      "execution_count": null,
      "outputs": [
        {
          "output_type": "stream",
          "name": "stdout",
          "text": [
            "['C', '언어의', '배열', '같은겁니다']\n",
            "배열\n",
            "같은겁니다\n",
            "[123, '같은', '숫자 데이터도', '문자 데이터와 함께 넣을 수 있습니다']\n",
            "[1, 2, 3, 4]\n",
            "[1, 2, 3, 4, 5]\n",
            "[1, 2, 4, 5]\n",
            "1\n",
            "[1, 1, 2, 3, 5, 10]\n",
            "[7, 9, 10, 2]\n"
          ]
        }
      ]
    },
    {
      "cell_type": "code",
      "source": [
        "# 6. 딕셔너리 자료형\n",
        "# 딕셔너리 자료형은 key, value 한 쌍을 갖는 자료구조입니다.\n",
        "\n",
        "student = {\"이름\" : \"홍길동\",\n",
        "           \"학번\" : \"12345678\",\n",
        "           \"학년\" : \"4\"}\n",
        "\n",
        "print(student[\"이름\"])\n",
        "print(student[\"학번\"])\n",
        "print(student[\"학년\"])"
      ],
      "metadata": {
        "colab": {
          "base_uri": "https://localhost:8080/"
        },
        "id": "oqQ8C6b3KEtY",
        "outputId": "cbe65e0d-28c8-4765-de32-38d319126840"
      },
      "execution_count": null,
      "outputs": [
        {
          "output_type": "stream",
          "name": "stdout",
          "text": [
            "홍길동\n",
            "12345678\n",
            "4\n"
          ]
        }
      ]
    },
    {
      "cell_type": "code",
      "source": [
        "# 7. 제어문 - 조건문\n",
        "# if, elif, else로 구성됩니다.\n",
        "이름 = \"고길동\"\n",
        "\n",
        "if 이름 == \"홍길동\":\n",
        "    print(\"홍길동이네요\")\n",
        "else:\n",
        "    print(\"홍길동이 아니네요\")\n",
        "\n",
        "if 이름 == \"홍길동\":\n",
        "    print(\"홍길동이네요\")\n",
        "elif 이름 == \"고길동\":\n",
        "    print(\"고길동이네요!\")\n",
        "elif 이름 == \"김길동\":\n",
        "    print(\"김길동이네요!\")\n",
        "else:\n",
        "    print(\"셋 다 아니네요.\")"
      ],
      "metadata": {
        "colab": {
          "base_uri": "https://localhost:8080/"
        },
        "id": "qgBTtHA6dJiO",
        "outputId": "749df1a2-c77d-4ee5-ff40-af1a330bcce2"
      },
      "execution_count": null,
      "outputs": [
        {
          "output_type": "stream",
          "name": "stdout",
          "text": [
            "홍길동이 아니네요\n",
            "고길동이네요!\n"
          ]
        }
      ]
    },
    {
      "cell_type": "code",
      "source": [
        "# 8. 제어문 - 반복문\n",
        "\n",
        "for i in range(5):\n",
        "    print(\"양이 \" + str(i) + \"마리\" + \".\"*i)\n",
        "print(\"잠들었다...\\n\")\n",
        "\n",
        "i = 0\n",
        "while i < 5:\n",
        "    print(\"양이 \" + str(i) + \"마리\" + \".\"*i)\n",
        "    i = i + 1\n",
        "print(\"잠들었다...\\n\")\n",
        "\n",
        "for i in range(5):\n",
        "    if i >= 2:\n",
        "        continue\n",
        "    print(\"양이 \" + str(i) + \"마리\" + \".\"*i)\n",
        "print(\"잠들었다...\\n\")\n",
        "\n",
        "for i in range(5):\n",
        "    print(\"양이 \" + str(i) + \"마리\" + \".\"*i)\n",
        "    break\n",
        "print(\"잠들었다...\\n\")"
      ],
      "metadata": {
        "colab": {
          "base_uri": "https://localhost:8080/"
        },
        "id": "fZujTRWFdohK",
        "outputId": "22134b3f-1bf0-454c-f38d-87105b5d5f2e"
      },
      "execution_count": null,
      "outputs": [
        {
          "output_type": "stream",
          "name": "stdout",
          "text": [
            "양이 0마리\n",
            "양이 1마리.\n",
            "양이 2마리..\n",
            "양이 3마리...\n",
            "양이 4마리....\n",
            "잠들었다..,\n",
            "\n",
            "양이 0마리\n",
            "양이 1마리.\n",
            "양이 2마리..\n",
            "양이 3마리...\n",
            "양이 4마리....\n",
            "잠들었다..,\n",
            "\n",
            "양이 0마리\n",
            "양이 1마리.\n",
            "잠들었다...\n",
            "\n",
            "양이 0마리\n",
            "잠들었다...\n",
            "\n"
          ]
        }
      ]
    }
  ]
}