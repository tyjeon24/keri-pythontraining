{
  "nbformat": 4,
  "nbformat_minor": 0,
  "metadata": {
    "colab": {
      "name": "1주차-2_과제.ipynb",
      "provenance": [],
      "collapsed_sections": []
    },
    "kernelspec": {
      "name": "python3",
      "display_name": "Python 3"
    },
    "language_info": {
      "name": "python"
    }
  },
  "cells": [
    {
      "cell_type": "markdown",
      "source": [
        "# 1. 함수 - 반환 값 없음\n",
        "\n",
        "1. 수를 입력받아, 홀수인지 짝수인지 알아내는 프로그램을 작성해보세요.\n",
        "2. 홀수인 경우 '홀수입니다.'를 출력하고, 짝수인 경우 '짝수입니다.'를 출력하면 됩니다.\n",
        "2. return을 쓰지 말고 함수 내에서 바로 결과를 출력해보세요.\n",
        "\n",
        "```\n",
        "# 입력\n",
        "1\n",
        "2\n",
        "3\n",
        "4\n",
        "\n",
        "# 출력  \n",
        "홀수입니다.\n",
        "짝수입니다.\n",
        "홀수입니다.\n",
        "짝수입니다.\n",
        "```"
      ],
      "metadata": {
        "id": "wtGcGPnfJaBa"
      }
    },
    {
      "cell_type": "code",
      "source": [
        "### 이 사이에 코드 입력\n",
        "\n",
        "\n",
        "def is_odd_number(number):\n",
        "    # 여기에 코드 작성\n",
        "\n",
        "###\n",
        "\n",
        "is_odd_number(1)\n",
        "is_odd_number(2)\n",
        "is_odd_number(3)\n",
        "is_odd_number(4)"
      ],
      "metadata": {
        "colab": {
          "base_uri": "https://localhost:8080/"
        },
        "id": "vJxBgX6IJeL4",
        "outputId": "b910375d-addb-4694-bb08-2731e73e86ed"
      },
      "execution_count": null,
      "outputs": [
        {
          "output_type": "stream",
          "name": "stdout",
          "text": [
            "홀수입니다.\n",
            "짝수입니다.\n",
            "홀수입니다.\n",
            "짝수입니다.\n"
          ]
        }
      ]
    },
    {
      "cell_type": "markdown",
      "source": [
        "# 2. 함수 - 반환 값 있음\n",
        "\n",
        "1. 수를 입력받아, 홀수인지 짝수인지 알아내는 프로그램을 작성해보세요.\n",
        "2. 홀수인 경우 True를 반환하고, 짝수인 경우 False를 반환하면 됩니다.\n",
        "3. return을 사용해보세요!\n",
        "\n",
        "```\n",
        "# 입력\n",
        "1\n",
        "2\n",
        "3\n",
        "4\n",
        "\n",
        "# 출력  \n",
        "True\n",
        "False\n",
        "True\n",
        "False\n",
        "```\n",
        "\n"
      ],
      "metadata": {
        "id": "raxvgH36dME1"
      }
    },
    {
      "cell_type": "code",
      "source": [
        "### 이 사이에 코드 입력\n",
        "\n",
        "def is_odd_number(number):\n",
        "    # 여기에 코드 작성\n",
        "\n",
        "###\n",
        "\n",
        "result = is_odd_number(1)\n",
        "print(result)\n",
        "result = is_odd_number(2)\n",
        "print(result)\n",
        "result = is_odd_number(3)\n",
        "print(result)\n",
        "result = is_odd_number(4)\n",
        "print(result)"
      ],
      "metadata": {
        "colab": {
          "base_uri": "https://localhost:8080/"
        },
        "id": "O5cx9gCJdc9J",
        "outputId": "29a43fea-c0fb-4a3c-90a7-1db4c3cf2a26"
      },
      "execution_count": null,
      "outputs": [
        {
          "output_type": "stream",
          "name": "stdout",
          "text": [
            "True\n",
            "False\n",
            "True\n",
            "False\n"
          ]
        }
      ]
    },
    {
      "cell_type": "markdown",
      "source": [
        "# 3. 함수\n",
        "\n",
        "1. 중복된 숫자가 들어있는 리스트가 입력됩니다.\n",
        "2. 중복을 뺀 리스트를 반환하는 함수를 만들어보세요.\n",
        "3. 힌트 : 빈 리스트에 값을 추가append해가면서, 이미 리스트에 있는 숫자는 continue하면 됩니다.\n",
        "\n",
        "```\n",
        "# 입력\n",
        "[1, 2, 3, 3, 4, 5] # 3이 중복\n",
        "[5, 6, 7, 5, 8, 9] # 5가 중복\n",
        "\n",
        "# 출력  \n",
        "[1, 2, 3, 4, 5]\n",
        "[5, 6, 7, 8, 9]\n",
        "```\n",
        "\n"
      ],
      "metadata": {
        "id": "MonXtqRxgDee"
      }
    },
    {
      "cell_type": "code",
      "source": [
        "### 이 사이에 코드 입력\n",
        "\n",
        "def no_duplication(리스트):\n",
        "    # 여기에 코드 작성\n",
        "\n",
        "###\n",
        "\n",
        "result = no_duplication([1, 2, 3, 3, 4, 5])\n",
        "print(result)\n",
        "result = no_duplication([5, 6, 7, 5, 8, 9])\n",
        "print(result)"
      ],
      "metadata": {
        "colab": {
          "base_uri": "https://localhost:8080/"
        },
        "outputId": "ff56361f-ad6e-438f-8d0c-4f3d71b5a1a8",
        "id": "Zc6Ijg6sgFZY"
      },
      "execution_count": null,
      "outputs": [
        {
          "output_type": "stream",
          "name": "stdout",
          "text": [
            "[1, 2, 3, 4, 5]\n",
            "[5, 6, 7, 8, 9]\n"
          ]
        }
      ]
    },
    {
      "cell_type": "markdown",
      "source": [
        "# 4. 클래스\n",
        "\n",
        "1. 계산기 클래스가 제공됩니다.\n",
        "2. 곱하기, 나누기 함수를 추가해보세요.\n",
        "3. 나누기 함수에서, 0으로 나누려고 하는 경우 \"0으로 나눌 수 없습니다.\"라는 문자열을 반환하도록 작성해보세요.\n",
        "\n",
        "```\n",
        "# 입력\n",
        "곱하기(5, 2)\n",
        "나누기(5, 2)\n",
        "나누기(2, 0)\n",
        "\n",
        "# 출력  \n",
        "10\n",
        "2.5\n",
        "0으로 나눌 수 없습니다.\n",
        "```\n",
        "\n"
      ],
      "metadata": {
        "id": "0qaOhosHhbeR"
      }
    },
    {
      "cell_type": "code",
      "source": [
        "### 이 사이에 코드 입력\n",
        "\n",
        "class 계산기():\n",
        "    def 더하기(self, a, b):\n",
        "        return a+b\n",
        "\n",
        "    def 빼기(self, a, b):\n",
        "        return a-b\n",
        "\n",
        "    # 이 아래에 곱하기, 더하기 함수 작성\n",
        "\n",
        "###\n",
        "\n",
        "테스트용_계산기 = 계산기()\n",
        "result = 테스트용_계산기.곱하기(5, 2)\n",
        "print(result)\n",
        "result = 테스트용_계산기.나누기(5, 2)\n",
        "print(result)\n",
        "result = 테스트용_계산기.나누기(2, 0)\n",
        "print(result)"
      ],
      "metadata": {
        "colab": {
          "base_uri": "https://localhost:8080/"
        },
        "outputId": "fea72cb2-4150-41c0-afcb-9f22f3f6bf0f",
        "id": "fz_qrbeIhcaD"
      },
      "execution_count": null,
      "outputs": [
        {
          "output_type": "stream",
          "name": "stdout",
          "text": [
            "10\n",
            "2.5\n",
            "0으로 나눌 수 없습니다.\n"
          ]
        }
      ]
    },
    {
      "cell_type": "markdown",
      "source": [
        "# 5. 파일 읽고 쓰기\n",
        "\n",
        "1. 학생정보.txt 파일이 제공됩니다.\n",
        "2. 해당 파일은 학생의 이름과 학생이 좋아하는 숫자로 구성되어 있습니다.  \n",
        "예)  \n",
        "홍길동  \n",
        "7  \n",
        "3. 파일을 읽은 다음, 학생의 이름과 좋아하는 숫자가 홀수인지 짝수인지를 출력해보세요.\n",
        "4. 참고 : 텍스트 파일에서 읽어 온 숫자는 문자이기 때문에, int() 함수를 활용해서 숫자로 바꿔주어야 합니다.\n",
        "\n",
        "```\n",
        "# 입력\n",
        "홍길동\n",
        "7\n",
        "\n",
        "# 출력  \n",
        "홍길동\n",
        "홀수\n",
        "```\n",
        "\n"
      ],
      "metadata": {
        "id": "e-v4bX5gjFQl"
      }
    },
    {
      "cell_type": "code",
      "source": [
        "내용 = \"\"\"홍길동\n",
        "7\"\"\"\n",
        "\n",
        "with open(\"학생정보.txt\", \"w\") as f:\n",
        "    f.write(내용)\n",
        "\n",
        "### 이 사이에 코드 입력\n",
        "\n",
        "\n",
        "\n",
        "###"
      ],
      "metadata": {
        "colab": {
          "base_uri": "https://localhost:8080/"
        },
        "outputId": "c8ced35e-dcde-4cf2-c494-87faf6515438",
        "id": "8_VjVr9djGeG"
      },
      "execution_count": null,
      "outputs": [
        {
          "output_type": "stream",
          "name": "stdout",
          "text": [
            "홍길동\n",
            "홀수\n"
          ]
        }
      ]
    }
  ]
}